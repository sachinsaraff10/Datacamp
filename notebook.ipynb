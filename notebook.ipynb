{
 "cells": [
  {
   "cell_type": "markdown",
   "id": "a3d4387f-fa24-4a80-906b-4cca195b6736",
   "metadata": {},
   "source": [
    "# Data Scientist Professional Practical Exam Submission\n",
    "\n",
    "\n",
    "**Data Validation:**\n",
    "\n",
    "The first step of the model building process is cleaning and validating your dataset. \n",
    "My first action was to validate that each variable in the dataset matched its description from the problem-statement.\n",
    "I obtained the following results:\n",
    "\n",
    " Dimensions: 947 rows, 8 columns\n",
    "\n",
    " \n",
    "- recipe     :     int64  -  No missing values \n",
    "- calories   :     float64 - 52 missing values\n",
    "- carbohydrate  :   float64 - 52 missing values\n",
    "- sugar         :   float64 - 52 missing values\n",
    "- protein       :   float64 - 52 missing values\n",
    "- category       :   object-  10 categories- Lunch/Snacks', 'Beverages', 'Potato',\n",
    "        'Vegetable', 'Meat', 'Chicken, 'Pork', 'Dessert', 'Breakfast', 'One\n",
    "           Dish Meal'. No missing values\n",
    "- servings      :    object- 4 unique values - No missing values\n",
    "- high_traffic   :   object- 1 unique value  - 373 missing values\n",
    "\n",
    "The only data type that did not match what was defined in the problem-statement was the 'servings' column which was supposed to be numerical. Therefore, my first step was to convert 'servings' to numeric form to match what was provided.\n",
    "\n",
    "As can be seen, the dataset had several missing values. Among these missing values were those of the dependent variable, high_traffic. Given that the only value in the high_traffic column was 'High', it would not be prudent to remove the missing values entirely. Therefore, I assumed that missing values for high_traffic would take the value 'Low'. \n",
    "\n",
    "For missing values in the other columns- carbohydrate, calories, protein, sugars- I first grouped the dataframe by the 'category' variable. Then, I replaced the missing values of the nutritional variables with the means of these variables for the given category. This means that, for instance, a missing 'sugars' value from breakfast would be replaced with the mean 'sugars' value for the entire 'breakfast' category. My reasoning while doing this was that replacing the missing values with the categorical means would not create excessive bias. \n",
    "\n",
    "After imputing the missing values, I confirmed that there were no missing values remaining in the dataset, and that every column matched its defined type.\n",
    "\n",
    "**Exploratory Analysis:**\n",
    "\n",
    "For single variable visualizations, I decided to use a KDE plot on the calories variable considering its non-parametric nature. I also used a countplot to plot the frequencies of the different categories under the 'category' variable. The KDE plot of calories demonstrates its left-skewed nature. The countplot of different categories tells us 'Breakfast' is most commonly occurring within the dataset, while 'One dish meal' is least. However, given this is a single variable plot, this visual does not tell us anything about categories being high or low traffic.\n",
    "\n",
    "For the graphic showing two or more variables, I used plotly to juxtapose interactive bar charts for high and low traffic, showing the mean values of the 4 nutritional metrics (calories, carbohydrate, protein, sugar) for each of the 10 categories under 'category'. These plots clearly show that popular recipes with high site traffic contain more protein on average than low traffic recipes, while also containing less sugars, carbohydrates, and calories. These observations hold true consistently across all categories of recipes, indicating that health preferences may be playing a part in recipe popularity. \n",
    "\n",
    "**Model Development:**\n",
    "\n",
    "Given the predicted variable in this scenario is high_traffic, taking values 'High'  and 'Low', the problem at hand deals with binary classification. Therefore, for the baseline model, I decided to use Logistic regression. \n",
    "To develop this model, I one-hot encoded the different categories of the 'category' variable to make it numerical. In addition, I used the scikit-learn standardscaler for scaling the training and test sets as 'calories' is in a different unit to the other nutritional variables which are in grams per serving, as well as 'servings' itself.\n",
    "\n",
    "For the comparison model, I opted for a Random Forest model using the sklearn.ensemble RandomForestClassifier. This decision was based on random forest models not requiring variable scaling, the ability to generate variable importance tables, and its non-linear nature.  To optimize model performance, I customized the min_samples_split, bootstrap,min_samples_leaf, and max_depth hyperparameters.\n",
    "The linear nature of logistic regression compared to random forest's non-linear nature would provide for an interesting metric upon which to evaluate baseline and comparison model performances.\n",
    "\n",
    "**Model Evaluation:**\n",
    "\n",
    "The baseline logistic regression model performed fairly well, with an accuracy rate of a little over 76.3%. \n",
    "On the other hand, the random forest model did a little worse, with an accuracy rate of around 75.8%. For random forest, this was the highest accuracy rate being generated out of several combinations of hyperparameters. \n",
    "\n",
    "**Business Goals:**\n",
    "\n",
    "The primary goals of this project for Tasty Bytes are to understand which recipes will lead to high traffic, and to correctly identify high-traffic recipes 80% of the time. \n",
    "To address these problems, I used the baseline and comparison models to identify factors that affect recipe popularity, and predict whether a recipe would receive 'High' or 'Low' traffic.\n",
    "\n",
    "\n",
    "**Business Metrics:**\n",
    "\n",
    "Both baseline and comparison models fell slightly short of the businesses target accuracy of 80%. However, the combination of a prediction success rate of over 75% for both models, as well as the conclusion derived from exploratory analysis are highly relevent towards business concerns. \n",
    "I created a feature importance dataframe based on the random forest model results to better understand the weight of different variables on model performance. The results for this confirmed what the exploratory analysis suggested: protein value was by far the most important determinant towards website traffic at almost 25%, with 'Vegetable' based recipes in second at 13.7%. These findings complement what was also observed in the dataset: site users are health-conscious and recipes being high in protein are the biggest determinant of high site traffic. \n",
    "\n",
    "**Summary:**\n",
    "\n",
    "Based on the results obtained through both the exploratory data analysis as well as the model development, it is clear to see that site users prefer protein rich recipes which are also lower in carbohydrates, sugars and calories. Therefore, I would highly recommend that Tasty Bytes prioritize the publishing of protein-rich recipes that are low in the other numerical nutrion metrics, in order to optimize website traffic.\n"
   ]
  },
  {
   "cell_type": "code",
   "execution_count": 1,
   "id": "45554a01-416e-4127-8e3e-53cc0290cb5a",
   "metadata": {
    "executionCancelledAt": null,
    "executionTime": 3479,
    "lastExecutedAt": 1741160602600,
    "lastExecutedByKernel": "2e13df34-5706-4f4a-90a6-c9d5b223ef13",
    "lastScheduledRunId": null,
    "lastSuccessfullyExecutedCode": "# Start coding here...\nimport pandas as pd"
   },
   "outputs": [],
   "source": [
    "# Start coding here...\n",
    "import pandas as pd"
   ]
  },
  {
   "cell_type": "code",
   "execution_count": 2,
   "id": "f19ac5d0-35c0-41f7-8abb-cf9acaf33076",
   "metadata": {
    "executionCancelledAt": null,
    "executionTime": 51,
    "lastExecutedAt": 1741160643931,
    "lastExecutedByKernel": "2e13df34-5706-4f4a-90a6-c9d5b223ef13",
    "lastScheduledRunId": null,
    "lastSuccessfullyExecutedCode": "df1=pd.read_csv(\"recipe_site_traffic_2212.csv\")"
   },
   "outputs": [],
   "source": [
    "df1=pd.read_csv(\"recipe_site_traffic_2212.csv\")"
   ]
  },
  {
   "cell_type": "code",
   "execution_count": 3,
   "id": "1f359d3e-46c6-4e44-b0f5-68beb6f740c1",
   "metadata": {
    "executionCancelledAt": null,
    "executionTime": 36,
    "lastExecutedAt": 1741160666480,
    "lastExecutedByKernel": "2e13df34-5706-4f4a-90a6-c9d5b223ef13",
    "lastScheduledRunId": null,
    "lastSuccessfullyExecutedCode": "df1.dtypes"
   },
   "outputs": [
    {
     "data": {
      "text/plain": [
       "recipe            int64\n",
       "calories        float64\n",
       "carbohydrate    float64\n",
       "sugar           float64\n",
       "protein         float64\n",
       "category         object\n",
       "servings         object\n",
       "high_traffic     object\n",
       "dtype: object"
      ]
     },
     "execution_count": 3,
     "metadata": {
      "application/com.datacamp.data-table.v1+json": {
       "error": "Maximum recursion level reached",
       "status": "error"
      },
      "application/com.datacamp.data-table.v2+json": {
       "error": "Maximum recursion level reached",
       "status": "error"
      }
     },
     "output_type": "execute_result"
    }
   ],
   "source": [
    "df1.dtypes"
   ]
  },
  {
   "cell_type": "code",
   "execution_count": 4,
   "id": "3f29be1b-ea77-442c-ad75-3d62ccec9439",
   "metadata": {
    "executionCancelledAt": null,
    "executionTime": 11,
    "lastExecutedAt": 1741160685927,
    "lastExecutedByKernel": "2e13df34-5706-4f4a-90a6-c9d5b223ef13",
    "lastScheduledRunId": null,
    "lastSuccessfullyExecutedCode": "df1.servings.nunique()"
   },
   "outputs": [
    {
     "data": {
      "text/plain": [
       "6"
      ]
     },
     "execution_count": 4,
     "metadata": {},
     "output_type": "execute_result"
    }
   ],
   "source": [
    "df1.servings.nunique()"
   ]
  },
  {
   "cell_type": "code",
   "execution_count": 6,
   "id": "1af97637-bae2-4771-a946-7f067753b313",
   "metadata": {
    "executionCancelledAt": null,
    "executionTime": 10,
    "lastExecutedAt": 1741160709861,
    "lastExecutedByKernel": "2e13df34-5706-4f4a-90a6-c9d5b223ef13",
    "lastScheduledRunId": null,
    "lastSuccessfullyExecutedCode": "df1['servings'] = pd.to_numeric(df1['servings'], errors='coerce')"
   },
   "outputs": [],
   "source": [
    "df1['servings'] = pd.to_numeric(df1['servings'], errors='coerce')"
   ]
  },
  {
   "cell_type": "code",
   "execution_count": 8,
   "id": "ad13c1ea-ed6d-41b7-8d48-e6a0a4b445f5",
   "metadata": {
    "executionCancelledAt": null,
    "executionTime": null,
    "lastExecutedAt": null,
    "lastExecutedByKernel": null,
    "lastScheduledRunId": null,
    "lastSuccessfullyExecutedCode": null,
    "outputsMetadata": {
     "0": {
      "height": 550,
      "tableState": {
       "quickFilterText": ""
      },
      "type": "dataFrame"
     }
    }
   },
   "outputs": [
    {
     "data": {
      "application/com.datacamp.data-table.v2+json": {
       "table": {
        "data": {
         "0": [
          0,
          52,
          52,
          52,
          52,
          0,
          3,
          373
         ],
         "index": [
          "recipe",
          "calories",
          "carbohydrate",
          "sugar",
          "protein",
          "category",
          "servings",
          "high_traffic"
         ]
        },
        "schema": {
         "fields": [
          {
           "name": "index",
           "type": "string"
          },
          {
           "name": "0",
           "type": "integer"
          }
         ],
         "pandas_version": "1.4.0",
         "primaryKey": [
          "index"
         ]
        }
       },
       "total_rows": 8,
       "truncation_type": null
      },
      "text/plain": [
       "recipe            0\n",
       "calories         52\n",
       "carbohydrate     52\n",
       "sugar            52\n",
       "protein          52\n",
       "category          0\n",
       "servings          3\n",
       "high_traffic    373\n",
       "dtype: int64"
      ]
     },
     "execution_count": 8,
     "metadata": {
      "application/com.datacamp.data-table.v2+json": {
       "status": "success"
      }
     },
     "output_type": "execute_result"
    }
   ],
   "source": [
    "df1.isna().sum()"
   ]
  },
  {
   "cell_type": "code",
   "execution_count": 9,
   "id": "7925899d-e92a-415f-b17e-f7930b6b89fb",
   "metadata": {
    "executionCancelledAt": null,
    "executionTime": 55,
    "lastExecutedAt": 1741160761091,
    "lastExecutedByKernel": "2e13df34-5706-4f4a-90a6-c9d5b223ef13",
    "lastScheduledRunId": null,
    "lastSuccessfullyExecutedCode": "df1.category.unique()"
   },
   "outputs": [
    {
     "data": {
      "text/plain": [
       "array(['Pork', 'Potato', 'Breakfast', 'Beverages', 'One Dish Meal',\n",
       "       'Chicken Breast', 'Lunch/Snacks', 'Chicken', 'Vegetable', 'Meat',\n",
       "       'Dessert'], dtype=object)"
      ]
     },
     "execution_count": 9,
     "metadata": {},
     "output_type": "execute_result"
    }
   ],
   "source": [
    "df1.category.unique()"
   ]
  },
  {
   "cell_type": "code",
   "execution_count": 10,
   "id": "2c92c282-3e01-4e9d-b09f-05f0fbc3a132",
   "metadata": {
    "executionCancelledAt": null,
    "executionTime": 10,
    "lastExecutedAt": 1741160777514,
    "lastExecutedByKernel": "2e13df34-5706-4f4a-90a6-c9d5b223ef13",
    "lastScheduledRunId": null,
    "lastSuccessfullyExecutedCode": "df1.fillna({'high_traffic':'Low'},inplace=True)"
   },
   "outputs": [],
   "source": [
    "df1.fillna({'high_traffic':'Low'},inplace=True)"
   ]
  },
  {
   "cell_type": "code",
   "execution_count": 11,
   "id": "7878e11d-e6a5-460a-ab3e-f1ce4c05de39",
   "metadata": {
    "executionCancelledAt": null,
    "executionTime": 51,
    "lastExecutedAt": 1741160807911,
    "lastExecutedByKernel": "2e13df34-5706-4f4a-90a6-c9d5b223ef13",
    "lastScheduledRunId": null,
    "lastSuccessfullyExecutedCode": "import numpy as np"
   },
   "outputs": [],
   "source": [
    "import numpy as np"
   ]
  },
  {
   "cell_type": "code",
   "execution_count": 12,
   "id": "e18112e9-ac2a-4e4b-833f-d27208aee9d4",
   "metadata": {
    "executionCancelledAt": null,
    "executionTime": 51,
    "lastExecutedAt": 1741160833399,
    "lastExecutedByKernel": "2e13df34-5706-4f4a-90a6-c9d5b223ef13",
    "lastScheduledRunId": null,
    "lastSuccessfullyExecutedCode": "lst1 = ['calories', 'carbohydrate', 'sugar', 'protein']\n\nfor col in lst1:\n    df1.loc[:,col]=df1.groupby('category')[col].transform(lambda x: x.fillna(x.mean()))"
   },
   "outputs": [],
   "source": [
    "lst1 = ['calories', 'carbohydrate', 'sugar', 'protein']\n",
    "\n",
    "for col in lst1:\n",
    "    df1.loc[:,col]=df1.groupby('category')[col].transform(lambda x: x.fillna(x.mean()))"
   ]
  },
  {
   "cell_type": "code",
   "execution_count": 13,
   "id": "59b7ddaa-33bb-4dc4-b69c-70a70aa7f78a",
   "metadata": {
    "executionCancelledAt": null,
    "executionTime": 52,
    "lastExecutedAt": 1741160849375,
    "lastExecutedByKernel": "2e13df34-5706-4f4a-90a6-c9d5b223ef13",
    "lastScheduledRunId": null,
    "lastSuccessfullyExecutedCode": "import matplotlib.pyplot as plt"
   },
   "outputs": [],
   "source": [
    "import matplotlib.pyplot as plt"
   ]
  },
  {
   "cell_type": "code",
   "execution_count": 14,
   "id": "30607288-048e-422f-b6b0-b2d10b439cc1",
   "metadata": {
    "executionCancelledAt": null,
    "executionTime": 470,
    "lastExecutedAt": 1741160861686,
    "lastExecutedByKernel": "2e13df34-5706-4f4a-90a6-c9d5b223ef13",
    "lastScheduledRunId": null,
    "lastSuccessfullyExecutedCode": "import seaborn as sns"
   },
   "outputs": [],
   "source": [
    "import seaborn as sns"
   ]
  },
  {
   "cell_type": "code",
   "execution_count": 15,
   "id": "e943a6bb-8bec-478d-bb7c-3b32d4821887",
   "metadata": {
    "executionCancelledAt": null,
    "executionTime": 463,
    "lastExecutedAt": 1741160875042,
    "lastExecutedByKernel": "2e13df34-5706-4f4a-90a6-c9d5b223ef13",
    "lastScheduledRunId": null,
    "lastSuccessfullyExecutedCode": "plt.figure(figsize=(8, 5))\nsns.kdeplot(df1.calories, shade=True, color='blue')\nplt.title('Density Plot of Calories')\nplt.xlabel('Calories')\nplt.ylabel('Density')\nplt.show()"
   },
   "outputs": [
    {
     "data": {
      "image/png": "[encoded data removed]",
      "text/plain": [
       "<Figure size 800x500 with 1 Axes>"
      ]
     },
     "metadata": {
      "image/png": {
       "height": 469,
       "width": 716
      }
     },
     "output_type": "display_data"
    }
   ],
   "source": [
    "plt.figure(figsize=(8, 5))\n",
    "sns.kdeplot(df1.calories, shade=True, color='blue')\n",
    "plt.title('Density Plot of Calories')\n",
    "plt.xlabel('Calories')\n",
    "plt.ylabel('Density')\n",
    "plt.show()"
   ]
  },
  {
   "cell_type": "code",
   "execution_count": 16,
   "id": "169e9094-6fbb-4b2c-9a54-612c07e21da7",
   "metadata": {
    "executionCancelledAt": null,
    "executionTime": 308,
    "lastExecutedAt": 1741160897223,
    "lastExecutedByKernel": "2e13df34-5706-4f4a-90a6-c9d5b223ef13",
    "lastScheduledRunId": null,
    "lastSuccessfullyExecutedCode": "plt.figure(figsize=(8, 5))\nsns.countplot(x=df1['category'], palette='viridis')\nplt.title('Count Plot of Categories')\nplt.xlabel('Category')\nplt.ylabel('Frequency')\nplt.xticks(rotation=45)\nplt.show()"
   },
   "outputs": [
    {
     "data": {
      "image/png": "[encoded data removed]",
      "text/plain": [
       "<Figure size 800x500 with 1 Axes>"
      ]
     },
     "metadata": {
      "image/png": {
       "height": 538,
       "width": 691
      }
     },
     "output_type": "display_data"
    }
   ],
   "source": [
    "plt.figure(figsize=(8, 5))\n",
    "sns.countplot(x=df1['category'], palette='viridis')\n",
    "plt.title('Count Plot of Categories')\n",
    "plt.xlabel('Category')\n",
    "plt.ylabel('Frequency')\n",
    "plt.xticks(rotation=45)\n",
    "plt.show()"
   ]
  },
  {
   "cell_type": "code",
   "execution_count": 17,
   "id": "380e7900-e8b0-46cc-a50e-411efa07ee0c",
   "metadata": {
    "executionCancelledAt": null,
    "executionTime": null,
    "lastExecutedAt": null,
    "lastExecutedByKernel": null,
    "lastScheduledRunId": null,
    "lastSuccessfullyExecutedCode": null,
    "outputsMetadata": {
     "0": {
      "height": 467,
      "type": "plotly"
     },
     "1": {
      "height": 467,
      "type": "plotly"
     }
    }
   },
   "outputs": [
    {
     "data": {
      "application/vnd.plotly.v1+json": {
       "config": {
        "displaylogo": false,
        "plotlyServerURL": "https://plot.ly",
        "toImageButtonOptions": {
         "filename": "DataLab plot",
         "format": "png",
         "height": 500,
         "scale": 2,
         "width": 700
        }
       },
       "data": [
        {
         "alignmentgroup": "True",
         "hovertemplate": "variable=calories<br>Category=%{x}<br>Mean Value=%{y}<extra></extra>",
         "legendgroup": "calories",
         "marker": {
          "color": "gold",
          "pattern": {
           "shape": ""
          }
         },
         "name": "calories",
         "offsetgroup": "calories",
         "orientation": "v",
         "showlegend": true,
         "textposition": "auto",
         "type": "bar",
         "x": [
          "Beverages",
          "Breakfast",
          "Chicken",
          "Chicken Breast",
          "Dessert",
          "Lunch/Snacks",
          "Meat",
          "One Dish Meal",
          "Pork",
          "Potato",
          "Vegetable"
         ],
         "xaxis": "x",
         "y": [
          180.3406896551724,
          337.87780821917806,
          637.3173635522664,
          466.0784042553192,
          302.0454025974026,
          452.8092835365854,
          702.3453783783783,
          495.28421052631575,
          588.5642857142857,
          683.896,
          61.8
         ],
         "yaxis": "y"
        },
        {
         "alignmentgroup": "True",
         "hovertemplate": "variable=carbohydrate<br>Category=%{x}<br>Mean Value=%{y}<extra></extra>",
         "legendgroup": "carbohydrate",
         "marker": {
          "color": "teal",
          "pattern": {
           "shape": ""
          }
         },
         "name": "carbohydrate",
         "offsetgroup": "carbohydrate",
         "orientation": "v",
         "showlegend": true,
         "textposition": "auto",
         "type": "bar",
         "x": [
          "Beverages",
          "Breakfast",
          "Chicken",
          "Chicken Breast",
          "Dessert",
          "Lunch/Snacks",
          "Meat",
          "One Dish Meal",
          "Pork",
          "Potato",
          "Vegetable"
         ],
         "xaxis": "x",
         "y": [
          15.886781609195403,
          42.267397260273974,
          34.429444958371874,
          18.581084288052374,
          52.75472727272727,
          45.28631097560976,
          17.473959459459458,
          36.62422623723487,
          23.93,
          46.934000000000005,
          6.28
         ],
         "yaxis": "y"
        },
        {
         "alignmentgroup": "True",
         "hovertemplate": "variable=protein<br>Category=%{x}<br>Mean Value=%{y}<extra></extra>",
         "legendgroup": "protein",
         "marker": {
          "color": "indigo",
          "pattern": {
           "shape": ""
          }
         },
         "name": "protein",
         "offsetgroup": "protein",
         "orientation": "v",
         "showlegend": true,
         "textposition": "auto",
         "type": "bar",
         "x": [
          "Beverages",
          "Breakfast",
          "Chicken",
          "Chicken Breast",
          "Dessert",
          "Lunch/Snacks",
          "Meat",
          "One Dish Meal",
          "Pork",
          "Potato",
          "Vegetable"
         ],
         "xaxis": "x",
         "y": [
          0.6126436781609195,
          17.514657534246574,
          43.679824236817765,
          43.413707037643206,
          6.1126623376623375,
          26.634748475609754,
          41.57720270270271,
          32.32311861743912,
          40.86142857142857,
          4.168,
          15.46
         ],
         "yaxis": "y"
        },
        {
         "alignmentgroup": "True",
         "hovertemplate": "variable=sugar<br>Category=%{x}<br>Mean Value=%{y}<extra></extra>",
         "legendgroup": "sugar",
         "marker": {
          "color": "brown",
          "pattern": {
           "shape": ""
          }
         },
         "name": "sugar",
         "offsetgroup": "sugar",
         "orientation": "v",
         "showlegend": true,
         "textposition": "auto",
         "type": "bar",
         "x": [
          "Beverages",
          "Breakfast",
          "Chicken",
          "Chicken Breast",
          "Dessert",
          "Lunch/Snacks",
          "Meat",
          "One Dish Meal",
          "Pork",
          "Potato",
          "Vegetable"
         ],
         "xaxis": "x",
         "y": [
          12.525172413793104,
          7.45931506849315,
          6.2841443108233115,
          5.038220130932897,
          39.13994805194805,
          6.395259146341464,
          4.550364864864865,
          5.9949960722702285,
          6.442857142857143,
          4.928,
          0.72
         ],
         "yaxis": "y"
        }
       ],
       "layout": {
        "barmode": "group",
        "height": 600,
        "legend": {
         "title": {
          "text": "Variable"
         },
         "tracegroupgap": 0
        },
        "template": {
         "data": {
          "bar": [
           {
            "error_x": {
             "color": "#2a3f5f"
            },
            "error_y": {
             "color": "#2a3f5f"
            },
            "marker": {
             "line": {
              "color": "white",
              "width": 0.5
             },
             "pattern": {
              "fillmode": "overlay",
              "size": 10,
              "solidity": 0.2
             }
            },
            "type": "bar"
           }
          ],
          "barpolar": [
           {
            "marker": {
             "line": {
              "color": "white",
              "width": 0.5
             },
             "pattern": {
              "fillmode": "overlay",
              "size": 10,
              "solidity": 0.2
             }
            },
            "type": "barpolar"
           }
          ],
          "carpet": [
           {
            "aaxis": {
             "endlinecolor": "#2a3f5f",
             "gridcolor": "#C8D4E3",
             "linecolor": "#C8D4E3",
             "minorgridcolor": "#C8D4E3",
             "startlinecolor": "#2a3f5f"
            },
            "baxis": {
             "endlinecolor": "#2a3f5f",
             "gridcolor": "#C8D4E3",
             "linecolor": "#C8D4E3",
             "minorgridcolor": "#C8D4E3",
             "startlinecolor": "#2a3f5f"
            },
            "type": "carpet"
           }
          ],
          "choropleth": [
           {
            "colorbar": {
             "outlinewidth": 0,
             "ticks": ""
            },
            "type": "choropleth"
           }
          ],
          "contour": [
           {
            "colorbar": {
             "outlinewidth": 0,
             "ticks": ""
            },
            "colorscale": [
             [
              0,
              "#0d0887"
             ],
             [
              0.1111111111111111,
              "#46039f"
             ],
             [
              0.2222222222222222,
              "#7201a8"
             ],
             [
              0.3333333333333333,
              "#9c179e"
             ],
             [
              0.4444444444444444,
              "#bd3786"
             ],
             [
              0.5555555555555556,
              "#d8576b"
             ],
             [
              0.6666666666666666,
              "#ed7953"
             ],
             [
              0.7777777777777778,
              "#fb9f3a"
             ],
             [
              0.8888888888888888,
              "#fdca26"
             ],
             [
              1,
              "#f0f921"
             ]
            ],
            "type": "contour"
           }
          ],
          "contourcarpet": [
           {
            "colorbar": {
             "outlinewidth": 0,
             "ticks": ""
            },
            "type": "contourcarpet"
           }
          ],
          "heatmap": [
           {
            "colorbar": {
             "outlinewidth": 0,
             "ticks": ""
            },
            "colorscale": [
             [
              0,
              "#0d0887"
             ],
             [
              0.1111111111111111,
              "#46039f"
             ],
             [
              0.2222222222222222,
              "#7201a8"
             ],
             [
              0.3333333333333333,
              "#9c179e"
             ],
             [
              0.4444444444444444,
              "#bd3786"
             ],
             [
              0.5555555555555556,
              "#d8576b"
             ],
             [
              0.6666666666666666,
              "#ed7953"
             ],
             [
              0.7777777777777778,
              "#fb9f3a"
             ],
             [
              0.8888888888888888,
              "#fdca26"
             ],
             [
              1,
              "#f0f921"
             ]
            ],
            "type": "heatmap"
           }
          ],
          "heatmapgl": [
           {
            "colorbar": {
             "outlinewidth": 0,
             "ticks": ""
            },
            "colorscale": [
             [
              0,
              "#0d0887"
             ],
             [
              0.1111111111111111,
              "#46039f"
             ],
             [
              0.2222222222222222,
              "#7201a8"
             ],
             [
              0.3333333333333333,
              "#9c179e"
             ],
             [
              0.4444444444444444,
              "#bd3786"
             ],
             [
              0.5555555555555556,
              "#d8576b"
             ],
             [
              0.6666666666666666,
              "#ed7953"
             ],
             [
              0.7777777777777778,
              "#fb9f3a"
             ],
             [
              0.8888888888888888,
              "#fdca26"
             ],
             [
              1,
              "#f0f921"
             ]
            ],
            "type": "heatmapgl"
           }
          ],
          "histogram": [
           {
            "marker": {
             "pattern": {
              "fillmode": "overlay",
              "size": 10,
              "solidity": 0.2
             }
            },
            "type": "histogram"
           }
          ],
          "histogram2d": [
           {
            "colorbar": {
             "outlinewidth": 0,
             "ticks": ""
            },
            "colorscale": [
             [
              0,
              "#0d0887"
             ],
             [
              0.1111111111111111,
              "#46039f"
             ],
             [
              0.2222222222222222,
              "#7201a8"
             ],
             [
              0.3333333333333333,
              "#9c179e"
             ],
             [
              0.4444444444444444,
              "#bd3786"
             ],
             [
              0.5555555555555556,
              "#d8576b"
             ],
             [
              0.6666666666666666,
              "#ed7953"
             ],
             [
              0.7777777777777778,
              "#fb9f3a"
             ],
             [
              0.8888888888888888,
              "#fdca26"
             ],
             [
              1,
              "#f0f921"
             ]
            ],
            "type": "histogram2d"
           }
          ],
          "histogram2dcontour": [
           {
            "colorbar": {
             "outlinewidth": 0,
             "ticks": ""
            },
            "colorscale": [
             [
              0,
              "#0d0887"
             ],
             [
              0.1111111111111111,
              "#46039f"
             ],
             [
              0.2222222222222222,
              "#7201a8"
             ],
             [
              0.3333333333333333,
              "#9c179e"
             ],
             [
              0.4444444444444444,
              "#bd3786"
             ],
             [
              0.5555555555555556,
              "#d8576b"
             ],
             [
              0.6666666666666666,
              "#ed7953"
             ],
             [
              0.7777777777777778,
              "#fb9f3a"
             ],
             [
              0.8888888888888888,
              "#fdca26"
             ],
             [
              1,
              "#f0f921"
             ]
            ],
            "type": "histogram2dcontour"
           }
          ],
          "mesh3d": [
           {
            "colorbar": {
             "outlinewidth": 0,
             "ticks": ""
            },
            "type": "mesh3d"
           }
          ],
          "parcoords": [
           {
            "line": {
             "colorbar": {
              "outlinewidth": 0,
              "ticks": ""
             }
            },
            "type": "parcoords"
           }
          ],
          "pie": [
           {
            "automargin": true,
            "type": "pie"
           }
          ],
          "scatter": [
           {
            "fillpattern": {
             "fillmode": "overlay",
             "size": 10,
             "solidity": 0.2
            },
            "type": "scatter"
           }
          ],
          "scatter3d": [
           {
            "line": {
             "colorbar": {
              "outlinewidth": 0,
              "ticks": ""
             }
            },
            "marker": {
             "colorbar": {
              "outlinewidth": 0,
              "ticks": ""
             }
            },
            "type": "scatter3d"
           }
          ],
          "scattercarpet": [
           {
            "marker": {
             "colorbar": {
              "outlinewidth": 0,
              "ticks": ""
             }
            },
            "type": "scattercarpet"
           }
          ],
          "scattergeo": [
           {
            "marker": {
             "colorbar": {
              "outlinewidth": 0,
              "ticks": ""
             }
            },
            "type": "scattergeo"
           }
          ],
          "scattergl": [
           {
            "marker": {
             "colorbar": {
              "outlinewidth": 0,
              "ticks": ""
             }
            },
            "type": "scattergl"
           }
          ],
          "scattermapbox": [
           {
            "marker": {
             "colorbar": {
              "outlinewidth": 0,
              "ticks": ""
             }
            },
            "type": "scattermapbox"
           }
          ],
          "scatterpolar": [
           {
            "marker": {
             "colorbar": {
              "outlinewidth": 0,
              "ticks": ""
             }
            },
            "type": "scatterpolar"
           }
          ],
          "scatterpolargl": [
           {
            "marker": {
             "colorbar": {
              "outlinewidth": 0,
              "ticks": ""
             }
            },
            "type": "scatterpolargl"
           }
          ],
          "scatterternary": [
           {
            "marker": {
             "colorbar": {
              "outlinewidth": 0,
              "ticks": ""
             }
            },
            "type": "scatterternary"
           }
          ],
          "surface": [
           {
            "colorbar": {
             "outlinewidth": 0,
             "ticks": ""
            },
            "colorscale": [
             [
              0,
              "#0d0887"
             ],
             [
              0.1111111111111111,
              "#46039f"
             ],
             [
              0.2222222222222222,
              "#7201a8"
             ],
             [
              0.3333333333333333,
              "#9c179e"
             ],
             [
              0.4444444444444444,
              "#bd3786"
             ],
             [
              0.5555555555555556,
              "#d8576b"
             ],
             [
              0.6666666666666666,
              "#ed7953"
             ],
             [
              0.7777777777777778,
              "#fb9f3a"
             ],
             [
              0.8888888888888888,
              "#fdca26"
             ],
             [
              1,
              "#f0f921"
             ]
            ],
            "type": "surface"
           }
          ],
          "table": [
           {
            "cells": {
             "fill": {
              "color": "#EBF0F8"
             },
             "line": {
              "color": "white"
             }
            },
            "header": {
             "fill": {
              "color": "#C8D4E3"
             },
             "line": {
              "color": "white"
             }
            },
            "type": "table"
           }
          ]
         },
         "layout": {
          "annotationdefaults": {
           "arrowcolor": "#2a3f5f",
           "arrowhead": 0,
           "arrowwidth": 1
          },
          "autotypenumbers": "strict",
          "coloraxis": {
           "colorbar": {
            "outlinewidth": 0,
            "ticks": ""
           }
          },
          "colorscale": {
           "diverging": [
            [
             0,
             "#8e0152"
            ],
            [
             0.1,
             "#c51b7d"
            ],
            [
             0.2,
             "#de77ae"
            ],
            [
             0.3,
             "#f1b6da"
            ],
            [
             0.4,
             "#fde0ef"
            ],
            [
             0.5,
             "#f7f7f7"
            ],
            [
             0.6,
             "#e6f5d0"
            ],
            [
             0.7,
             "#b8e186"
            ],
            [
             0.8,
             "#7fbc41"
            ],
            [
             0.9,
             "#4d9221"
            ],
            [
             1,
             "#276419"
            ]
           ],
           "sequential": [
            [
             0,
             "#0d0887"
            ],
            [
             0.1111111111111111,
             "#46039f"
            ],
            [
             0.2222222222222222,
             "#7201a8"
            ],
            [
             0.3333333333333333,
             "#9c179e"
            ],
            [
             0.4444444444444444,
             "#bd3786"
            ],
            [
             0.5555555555555556,
             "#d8576b"
            ],
            [
             0.6666666666666666,
             "#ed7953"
            ],
            [
             0.7777777777777778,
             "#fb9f3a"
            ],
            [
             0.8888888888888888,
             "#fdca26"
            ],
            [
             1,
             "#f0f921"
            ]
           ],
           "sequentialminus": [
            [
             0,
             "#0d0887"
            ],
            [
             0.1111111111111111,
             "#46039f"
            ],
            [
             0.2222222222222222,
             "#7201a8"
            ],
            [
             0.3333333333333333,
             "#9c179e"
            ],
            [
             0.4444444444444444,
             "#bd3786"
            ],
            [
             0.5555555555555556,
             "#d8576b"
            ],
            [
             0.6666666666666666,
             "#ed7953"
            ],
            [
             0.7777777777777778,
             "#fb9f3a"
            ],
            [
             0.8888888888888888,
             "#fdca26"
            ],
            [
             1,
             "#f0f921"
            ]
           ]
          },
          "colorway": [
           "#6568a0",
           "#43d7a4",
           "#4095db",
           "#facc5f",
           "#cae279",
           "#7db64f",
           "#f08083",
           "#5bcdf2",
           "#f099dc",
           "#965858"
          ],
          "font": {
           "color": "#05192D",
           "family": "Studio-Feixen-Sans, Arial, sans-serif"
          },
          "geo": {
           "bgcolor": "white",
           "lakecolor": "white",
           "landcolor": "white",
           "showlakes": true,
           "showland": true,
           "subunitcolor": "#C8D4E3"
          },
          "hoverlabel": {
           "align": "left",
           "font": {
            "family": "Studio-Feixen-Sans, Arial, sans-serif"
           }
          },
          "hovermode": "closest",
          "mapbox": {
           "style": "light"
          },
          "paper_bgcolor": "white",
          "plot_bgcolor": "white",
          "polar": {
           "angularaxis": {
            "gridcolor": "#EBF0F8",
            "linecolor": "#EBF0F8",
            "ticks": ""
           },
           "bgcolor": "white",
           "radialaxis": {
            "gridcolor": "#EBF0F8",
            "linecolor": "#EBF0F8",
            "ticks": ""
           }
          },
          "scene": {
           "xaxis": {
            "backgroundcolor": "white",
            "gridcolor": "#DFE8F3",
            "gridwidth": 2,
            "linecolor": "#EBF0F8",
            "showbackground": true,
            "ticks": "",
            "zerolinecolor": "#EBF0F8"
           },
           "yaxis": {
            "backgroundcolor": "white",
            "gridcolor": "#DFE8F3",
            "gridwidth": 2,
            "linecolor": "#EBF0F8",
            "showbackground": true,
            "ticks": "",
            "zerolinecolor": "#EBF0F8"
           },
           "zaxis": {
            "backgroundcolor": "white",
            "gridcolor": "#DFE8F3",
            "gridwidth": 2,
            "linecolor": "#EBF0F8",
            "showbackground": true,
            "ticks": "",
            "zerolinecolor": "#EBF0F8"
           }
          },
          "shapedefaults": {
           "line": {
            "color": "#2a3f5f"
           }
          },
          "ternary": {
           "aaxis": {
            "gridcolor": "#DFE8F3",
            "linecolor": "#A2B1C6",
            "ticks": ""
           },
           "baxis": {
            "gridcolor": "#DFE8F3",
            "linecolor": "#A2B1C6",
            "ticks": ""
           },
           "bgcolor": "white",
           "caxis": {
            "gridcolor": "#DFE8F3",
            "linecolor": "#A2B1C6",
            "ticks": ""
           }
          },
          "title": {
           "x": 0.05
          },
          "xaxis": {
           "automargin": true,
           "gridcolor": "#EBF0F8",
           "linecolor": "#EBF0F8",
           "ticks": "",
           "title": {
            "standoff": 15
           },
           "zerolinecolor": "#EBF0F8",
           "zerolinewidth": 2
          },
          "yaxis": {
           "automargin": true,
           "gridcolor": "#EBF0F8",
           "linecolor": "#EBF0F8",
           "ticks": "",
           "title": {
            "standoff": 15
           },
           "zerolinecolor": "#EBF0F8",
           "zerolinewidth": 2
          }
         }
        },
        "title": {
         "text": "Nutritional Means by Category for Low Traffic"
        },
        "xaxis": {
         "anchor": "y",
         "domain": [
          0,
          1
         ],
         "tickangle": 45,
         "title": {
          "text": "Category"
         }
        },
        "yaxis": {
         "anchor": "x",
         "domain": [
          0,
          1
         ],
         "title": {
          "text": "Mean Value"
         }
        }
       }
      }
     },
     "metadata": {},
     "output_type": "display_data"
    },
    {
     "data": {
      "application/vnd.plotly.v1+json": {
       "config": {
        "displaylogo": false,
        "plotlyServerURL": "https://plot.ly",
        "toImageButtonOptions": {
         "filename": "DataLab plot",
         "format": "png",
         "height": 500,
         "scale": 2,
         "width": 700
        }
       },
       "data": [
        {
         "alignmentgroup": "True",
         "hovertemplate": "variable=calories<br>Category=%{x}<br>Mean Value=%{y}<extra></extra>",
         "legendgroup": "calories",
         "marker": {
          "color": "gold",
          "pattern": {
           "shape": ""
          }
         },
         "name": "calories",
         "offsetgroup": "calories",
         "orientation": "v",
         "showlegend": true,
         "textposition": "auto",
         "type": "bar",
         "x": [
          "Beverages",
          "Breakfast",
          "Chicken",
          "Chicken Breast",
          "Dessert",
          "Lunch/Snacks",
          "Meat",
          "One Dish Meal",
          "Pork",
          "Potato",
          "Vegetable"
         ],
         "xaxis": "x",
         "y": [
          132.344,
          318.6121212121212,
          443.8612614063339,
          624.2847178538391,
          379.33981867189414,
          493.4670646127514,
          544.5976500229042,
          609.7113461538462,
          633.4484273260986,
          409.47653941065465,
          247.2491994996873
         ],
         "yaxis": "y"
        },
        {
         "alignmentgroup": "True",
         "hovertemplate": "variable=carbohydrate<br>Category=%{x}<br>Mean Value=%{y}<extra></extra>",
         "legendgroup": "carbohydrate",
         "marker": {
          "color": "teal",
          "pattern": {
           "shape": ""
          }
         },
         "name": "carbohydrate",
         "offsetgroup": "carbohydrate",
         "orientation": "v",
         "showlegend": true,
         "textposition": "auto",
         "type": "bar",
         "x": [
          "Beverages",
          "Breakfast",
          "Chicken",
          "Chicken Breast",
          "Dessert",
          "Lunch/Snacks",
          "Meat",
          "One Dish Meal",
          "Pork",
          "Potato",
          "Vegetable"
         ],
         "xaxis": "x",
         "y": [
          17.16,
          34.05818181818182,
          24.348615136876006,
          25.50948658649399,
          57.30734133790738,
          41.43692768506632,
          23.747945487860743,
          55.41083524684271,
          28.453088418430884,
          58.826045870227894,
          23.891546278924327
         ],
         "yaxis": "y"
        },
        {
         "alignmentgroup": "True",
         "hovertemplate": "variable=protein<br>Category=%{x}<br>Mean Value=%{y}<extra></extra>",
         "legendgroup": "protein",
         "marker": {
          "color": "indigo",
          "pattern": {
           "shape": ""
          }
         },
         "name": "protein",
         "offsetgroup": "protein",
         "orientation": "v",
         "showlegend": true,
         "textposition": "auto",
         "type": "bar",
         "x": [
          "Beverages",
          "Breakfast",
          "Chicken",
          "Chicken Breast",
          "Dessert",
          "Lunch/Snacks",
          "Meat",
          "One Dish Meal",
          "Pork",
          "Potato",
          "Vegetable"
         ],
         "xaxis": "x",
         "y": [
          0.284,
          15.723939393939393,
          38.64806763285024,
          62.05006012950971,
          5.5601764273462395,
          15.66780487804878,
          39.97018781493358,
          37.24300803673938,
          44.06460238391745,
          8.839651618522282,
          7.799629455909944
         ],
         "yaxis": "y"
        },
        {
         "alignmentgroup": "True",
         "hovertemplate": "variable=sugar<br>Category=%{x}<br>Mean Value=%{y}<extra></extra>",
         "legendgroup": "sugar",
         "marker": {
          "color": "brown",
          "pattern": {
           "shape": ""
          }
         },
         "name": "sugar",
         "offsetgroup": "sugar",
         "orientation": "v",
         "showlegend": true,
         "textposition": "auto",
         "type": "bar",
         "x": [
          "Beverages",
          "Breakfast",
          "Chicken",
          "Chicken Breast",
          "Dessert",
          "Lunch/Snacks",
          "Meat",
          "One Dish Meal",
          "Pork",
          "Potato",
          "Vegetable"
         ],
         "xaxis": "x",
         "y": [
          12.748000000000001,
          7.757878787878788,
          4.6235748792270535,
          5.167118408880666,
          33.01438127909826,
          4.699398801882756,
          6.241880439761795,
          6.017723880597016,
          8.1853442447963,
          3.646079256786181,
          5.118117573483427
         ],
         "yaxis": "y"
        }
       ],
       "layout": {
        "barmode": "group",
        "height": 600,
        "legend": {
         "title": {
          "text": "Variable"
         },
         "tracegroupgap": 0
        },
        "template": {
         "data": {
          "bar": [
           {
            "error_x": {
             "color": "#2a3f5f"
            },
            "error_y": {
             "color": "#2a3f5f"
            },
            "marker": {
             "line": {
              "color": "white",
              "width": 0.5
             },
             "pattern": {
              "fillmode": "overlay",
              "size": 10,
              "solidity": 0.2
             }
            },
            "type": "bar"
           }
          ],
          "barpolar": [
           {
            "marker": {
             "line": {
              "color": "white",
              "width": 0.5
             },
             "pattern": {
              "fillmode": "overlay",
              "size": 10,
              "solidity": 0.2
             }
            },
            "type": "barpolar"
           }
          ],
          "carpet": [
           {
            "aaxis": {
             "endlinecolor": "#2a3f5f",
             "gridcolor": "#C8D4E3",
             "linecolor": "#C8D4E3",
             "minorgridcolor": "#C8D4E3",
             "startlinecolor": "#2a3f5f"
            },
            "baxis": {
             "endlinecolor": "#2a3f5f",
             "gridcolor": "#C8D4E3",
             "linecolor": "#C8D4E3",
             "minorgridcolor": "#C8D4E3",
             "startlinecolor": "#2a3f5f"
            },
            "type": "carpet"
           }
          ],
          "choropleth": [
           {
            "colorbar": {
             "outlinewidth": 0,
             "ticks": ""
            },
            "type": "choropleth"
           }
          ],
          "contour": [
           {
            "colorbar": {
             "outlinewidth": 0,
             "ticks": ""
            },
            "colorscale": [
             [
              0,
              "#0d0887"
             ],
             [
              0.1111111111111111,
              "#46039f"
             ],
             [
              0.2222222222222222,
              "#7201a8"
             ],
             [
              0.3333333333333333,
              "#9c179e"
             ],
             [
              0.4444444444444444,
              "#bd3786"
             ],
             [
              0.5555555555555556,
              "#d8576b"
             ],
             [
              0.6666666666666666,
              "#ed7953"
             ],
             [
              0.7777777777777778,
              "#fb9f3a"
             ],
             [
              0.8888888888888888,
              "#fdca26"
             ],
             [
              1,
              "#f0f921"
             ]
            ],
            "type": "contour"
           }
          ],
          "contourcarpet": [
           {
            "colorbar": {
             "outlinewidth": 0,
             "ticks": ""
            },
            "type": "contourcarpet"
           }
          ],
          "heatmap": [
           {
            "colorbar": {
             "outlinewidth": 0,
             "ticks": ""
            },
            "colorscale": [
             [
              0,
              "#0d0887"
             ],
             [
              0.1111111111111111,
              "#46039f"
             ],
             [
              0.2222222222222222,
              "#7201a8"
             ],
             [
              0.3333333333333333,
              "#9c179e"
             ],
             [
              0.4444444444444444,
              "#bd3786"
             ],
             [
              0.5555555555555556,
              "#d8576b"
             ],
             [
              0.6666666666666666,
              "#ed7953"
             ],
             [
              0.7777777777777778,
              "#fb9f3a"
             ],
             [
              0.8888888888888888,
              "#fdca26"
             ],
             [
              1,
              "#f0f921"
             ]
            ],
            "type": "heatmap"
           }
          ],
          "heatmapgl": [
           {
            "colorbar": {
             "outlinewidth": 0,
             "ticks": ""
            },
            "colorscale": [
             [
              0,
              "#0d0887"
             ],
             [
              0.1111111111111111,
              "#46039f"
             ],
             [
              0.2222222222222222,
              "#7201a8"
             ],
             [
              0.3333333333333333,
              "#9c179e"
             ],
             [
              0.4444444444444444,
              "#bd3786"
             ],
             [
              0.5555555555555556,
              "#d8576b"
             ],
             [
              0.6666666666666666,
              "#ed7953"
             ],
             [
              0.7777777777777778,
              "#fb9f3a"
             ],
             [
              0.8888888888888888,
              "#fdca26"
             ],
             [
              1,
              "#f0f921"
             ]
            ],
            "type": "heatmapgl"
           }
          ],
          "histogram": [
           {
            "marker": {
             "pattern": {
              "fillmode": "overlay",
              "size": 10,
              "solidity": 0.2
             }
            },
            "type": "histogram"
           }
          ],
          "histogram2d": [
           {
            "colorbar": {
             "outlinewidth": 0,
             "ticks": ""
            },
            "colorscale": [
             [
              0,
              "#0d0887"
             ],
             [
              0.1111111111111111,
              "#46039f"
             ],
             [
              0.2222222222222222,
              "#7201a8"
             ],
             [
              0.3333333333333333,
              "#9c179e"
             ],
             [
              0.4444444444444444,
              "#bd3786"
             ],
             [
              0.5555555555555556,
              "#d8576b"
             ],
             [
              0.6666666666666666,
              "#ed7953"
             ],
             [
              0.7777777777777778,
              "#fb9f3a"
             ],
             [
              0.8888888888888888,
              "#fdca26"
             ],
             [
              1,
              "#f0f921"
             ]
            ],
            "type": "histogram2d"
           }
          ],
          "histogram2dcontour": [
           {
            "colorbar": {
             "outlinewidth": 0,
             "ticks": ""
            },
            "colorscale": [
             [
              0,
              "#0d0887"
             ],
             [
              0.1111111111111111,
              "#46039f"
             ],
             [
              0.2222222222222222,
              "#7201a8"
             ],
             [
              0.3333333333333333,
              "#9c179e"
             ],
             [
              0.4444444444444444,
              "#bd3786"
             ],
             [
              0.5555555555555556,
              "#d8576b"
             ],
             [
              0.6666666666666666,
              "#ed7953"
             ],
             [
              0.7777777777777778,
              "#fb9f3a"
             ],
             [
              0.8888888888888888,
              "#fdca26"
             ],
             [
              1,
              "#f0f921"
             ]
            ],
            "type": "histogram2dcontour"
           }
          ],
          "mesh3d": [
           {
            "colorbar": {
             "outlinewidth": 0,
             "ticks": ""
            },
            "type": "mesh3d"
           }
          ],
          "parcoords": [
           {
            "line": {
             "colorbar": {
              "outlinewidth": 0,
              "ticks": ""
             }
            },
            "type": "parcoords"
           }
          ],
          "pie": [
           {
            "automargin": true,
            "type": "pie"
           }
          ],
          "scatter": [
           {
            "fillpattern": {
             "fillmode": "overlay",
             "size": 10,
             "solidity": 0.2
            },
            "type": "scatter"
           }
          ],
          "scatter3d": [
           {
            "line": {
             "colorbar": {
              "outlinewidth": 0,
              "ticks": ""
             }
            },
            "marker": {
             "colorbar": {
              "outlinewidth": 0,
              "ticks": ""
             }
            },
            "type": "scatter3d"
           }
          ],
          "scattercarpet": [
           {
            "marker": {
             "colorbar": {
              "outlinewidth": 0,
              "ticks": ""
             }
            },
            "type": "scattercarpet"
           }
          ],
          "scattergeo": [
           {
            "marker": {
             "colorbar": {
              "outlinewidth": 0,
              "ticks": ""
             }
            },
            "type": "scattergeo"
           }
          ],
          "scattergl": [
           {
            "marker": {
             "colorbar": {
              "outlinewidth": 0,
              "ticks": ""
             }
            },
            "type": "scattergl"
           }
          ],
          "scattermapbox": [
           {
            "marker": {
             "colorbar": {
              "outlinewidth": 0,
              "ticks": ""
             }
            },
            "type": "scattermapbox"
           }
          ],
          "scatterpolar": [
           {
            "marker": {
             "colorbar": {
              "outlinewidth": 0,
              "ticks": ""
             }
            },
            "type": "scatterpolar"
           }
          ],
          "scatterpolargl": [
           {
            "marker": {
             "colorbar": {
              "outlinewidth": 0,
              "ticks": ""
             }
            },
            "type": "scatterpolargl"
           }
          ],
          "scatterternary": [
           {
            "marker": {
             "colorbar": {
              "outlinewidth": 0,
              "ticks": ""
             }
            },
            "type": "scatterternary"
           }
          ],
          "surface": [
           {
            "colorbar": {
             "outlinewidth": 0,
             "ticks": ""
            },
            "colorscale": [
             [
              0,
              "#0d0887"
             ],
             [
              0.1111111111111111,
              "#46039f"
             ],
             [
              0.2222222222222222,
              "#7201a8"
             ],
             [
              0.3333333333333333,
              "#9c179e"
             ],
             [
              0.4444444444444444,
              "#bd3786"
             ],
             [
              0.5555555555555556,
              "#d8576b"
             ],
             [
              0.6666666666666666,
              "#ed7953"
             ],
             [
              0.7777777777777778,
              "#fb9f3a"
             ],
             [
              0.8888888888888888,
              "#fdca26"
             ],
             [
              1,
              "#f0f921"
             ]
            ],
            "type": "surface"
           }
          ],
          "table": [
           {
            "cells": {
             "fill": {
              "color": "#EBF0F8"
             },
             "line": {
              "color": "white"
             }
            },
            "header": {
             "fill": {
              "color": "#C8D4E3"
             },
             "line": {
              "color": "white"
             }
            },
            "type": "table"
           }
          ]
         },
         "layout": {
          "annotationdefaults": {
           "arrowcolor": "#2a3f5f",
           "arrowhead": 0,
           "arrowwidth": 1
          },
          "autotypenumbers": "strict",
          "coloraxis": {
           "colorbar": {
            "outlinewidth": 0,
            "ticks": ""
           }
          },
          "colorscale": {
           "diverging": [
            [
             0,
             "#8e0152"
            ],
            [
             0.1,
             "#c51b7d"
            ],
            [
             0.2,
             "#de77ae"
            ],
            [
             0.3,
             "#f1b6da"
            ],
            [
             0.4,
             "#fde0ef"
            ],
            [
             0.5,
             "#f7f7f7"
            ],
            [
             0.6,
             "#e6f5d0"
            ],
            [
             0.7,
             "#b8e186"
            ],
            [
             0.8,
             "#7fbc41"
            ],
            [
             0.9,
             "#4d9221"
            ],
            [
             1,
             "#276419"
            ]
           ],
           "sequential": [
            [
             0,
             "#0d0887"
            ],
            [
             0.1111111111111111,
             "#46039f"
            ],
            [
             0.2222222222222222,
             "#7201a8"
            ],
            [
             0.3333333333333333,
             "#9c179e"
            ],
            [
             0.4444444444444444,
             "#bd3786"
            ],
            [
             0.5555555555555556,
             "#d8576b"
            ],
            [
             0.6666666666666666,
             "#ed7953"
            ],
            [
             0.7777777777777778,
             "#fb9f3a"
            ],
            [
             0.8888888888888888,
             "#fdca26"
            ],
            [
             1,
             "#f0f921"
            ]
           ],
           "sequentialminus": [
            [
             0,
             "#0d0887"
            ],
            [
             0.1111111111111111,
             "#46039f"
            ],
            [
             0.2222222222222222,
             "#7201a8"
            ],
            [
             0.3333333333333333,
             "#9c179e"
            ],
            [
             0.4444444444444444,
             "#bd3786"
            ],
            [
             0.5555555555555556,
             "#d8576b"
            ],
            [
             0.6666666666666666,
             "#ed7953"
            ],
            [
             0.7777777777777778,
             "#fb9f3a"
            ],
            [
             0.8888888888888888,
             "#fdca26"
            ],
            [
             1,
             "#f0f921"
            ]
           ]
          },
          "colorway": [
           "#6568a0",
           "#43d7a4",
           "#4095db",
           "#facc5f",
           "#cae279",
           "#7db64f",
           "#f08083",
           "#5bcdf2",
           "#f099dc",
           "#965858"
          ],
          "font": {
           "color": "#05192D",
           "family": "Studio-Feixen-Sans, Arial, sans-serif"
          },
          "geo": {
           "bgcolor": "white",
           "lakecolor": "white",
           "landcolor": "white",
           "showlakes": true,
           "showland": true,
           "subunitcolor": "#C8D4E3"
          },
          "hoverlabel": {
           "align": "left",
           "font": {
            "family": "Studio-Feixen-Sans, Arial, sans-serif"
           }
          },
          "hovermode": "closest",
          "mapbox": {
           "style": "light"
          },
          "paper_bgcolor": "white",
          "plot_bgcolor": "white",
          "polar": {
           "angularaxis": {
            "gridcolor": "#EBF0F8",
            "linecolor": "#EBF0F8",
            "ticks": ""
           },
           "bgcolor": "white",
           "radialaxis": {
            "gridcolor": "#EBF0F8",
            "linecolor": "#EBF0F8",
            "ticks": ""
           }
          },
          "scene": {
           "xaxis": {
            "backgroundcolor": "white",
            "gridcolor": "#DFE8F3",
            "gridwidth": 2,
            "linecolor": "#EBF0F8",
            "showbackground": true,
            "ticks": "",
            "zerolinecolor": "#EBF0F8"
           },
           "yaxis": {
            "backgroundcolor": "white",
            "gridcolor": "#DFE8F3",
            "gridwidth": 2,
            "linecolor": "#EBF0F8",
            "showbackground": true,
            "ticks": "",
            "zerolinecolor": "#EBF0F8"
           },
           "zaxis": {
            "backgroundcolor": "white",
            "gridcolor": "#DFE8F3",
            "gridwidth": 2,
            "linecolor": "#EBF0F8",
            "showbackground": true,
            "ticks": "",
            "zerolinecolor": "#EBF0F8"
           }
          },
          "shapedefaults": {
           "line": {
            "color": "#2a3f5f"
           }
          },
          "ternary": {
           "aaxis": {
            "gridcolor": "#DFE8F3",
            "linecolor": "#A2B1C6",
            "ticks": ""
           },
           "baxis": {
            "gridcolor": "#DFE8F3",
            "linecolor": "#A2B1C6",
            "ticks": ""
           },
           "bgcolor": "white",
           "caxis": {
            "gridcolor": "#DFE8F3",
            "linecolor": "#A2B1C6",
            "ticks": ""
           }
          },
          "title": {
           "x": 0.05
          },
          "xaxis": {
           "automargin": true,
           "gridcolor": "#EBF0F8",
           "linecolor": "#EBF0F8",
           "ticks": "",
           "title": {
            "standoff": 15
           },
           "zerolinecolor": "#EBF0F8",
           "zerolinewidth": 2
          },
          "yaxis": {
           "automargin": true,
           "gridcolor": "#EBF0F8",
           "linecolor": "#EBF0F8",
           "ticks": "",
           "title": {
            "standoff": 15
           },
           "zerolinecolor": "#EBF0F8",
           "zerolinewidth": 2
          }
         }
        },
        "title": {
         "text": "Nutritional Means by Category for High Traffic"
        },
        "xaxis": {
         "anchor": "y",
         "domain": [
          0,
          1
         ],
         "tickangle": 45,
         "title": {
          "text": "Category"
         }
        },
        "yaxis": {
         "anchor": "x",
         "domain": [
          0,
          1
         ],
         "title": {
          "text": "Mean Value"
         }
        }
       }
      }
     },
     "metadata": {},
     "output_type": "display_data"
    }
   ],
   "source": [
    "import plotly.express as px\n",
    "summary = df1.groupby(['category', 'high_traffic'])[['calories', 'carbohydrate', 'protein', 'sugar']].mean()\n",
    "\n",
    "# Plot for 'Low' traffic\n",
    "low_traffic_summary = summary.xs('Low',level='high_traffic')\n",
    "low_traffic_summary_reset = low_traffic_summary.reset_index()\n",
    "low_traffic_fig = px.bar(\n",
    "    low_traffic_summary_reset,\n",
    "    x='category',\n",
    "    y=['calories', 'carbohydrate', 'protein', 'sugar'],\n",
    "    title='Nutritional Means by Category for Low Traffic',\n",
    "    color_discrete_sequence=['gold', 'teal', 'indigo', 'brown'],  # Custom bar colors\n",
    "    labels={'value': 'Mean Value', 'category': 'Category'},\n",
    "    barmode='group',\n",
    "    height=600\n",
    ")\n",
    "low_traffic_fig.update_layout(\n",
    "    xaxis_tickangle=45,\n",
    "    legend_title_text='Variable'\n",
    ")\n",
    "low_traffic_fig.show()\n",
    "\n",
    "# Plot for 'High' traffic\n",
    "high_traffic_summary = summary.xs('High',level='high_traffic')\n",
    "high_traffic_summary_reset = high_traffic_summary.reset_index()\n",
    "high_traffic_fig = px.bar(\n",
    "    high_traffic_summary_reset,\n",
    "    x='category',\n",
    "    y=['calories', 'carbohydrate', 'protein', 'sugar'],\n",
    "    color_discrete_sequence=['gold', 'teal', 'indigo', 'brown'],  # Custom bar colors\n",
    "    title='Nutritional Means by Category for High Traffic',\n",
    "    labels={'value': 'Mean Value', 'category': 'Category'},\n",
    "    barmode='group',\n",
    "    height=600\n",
    ")\n",
    "high_traffic_fig.update_layout(\n",
    "    xaxis_tickangle=45,\n",
    "    legend_title_text='Variable'\n",
    ")\n",
    "high_traffic_fig.show()\n"
   ]
  },
  {
   "cell_type": "code",
   "execution_count": 18,
   "id": "36527b89-5583-4041-93d3-fb893f5367b5",
   "metadata": {
    "executionCancelledAt": null,
    "executionTime": null,
    "lastExecutedAt": null,
    "lastExecutedByKernel": null,
    "lastScheduledRunId": null,
    "lastSuccessfullyExecutedCode": null,
    "outputsMetadata": {
     "0": {
      "height": 248,
      "type": "stream"
     }
    }
   },
   "outputs": [
    {
     "name": "stdout",
     "output_type": "stream",
     "text": [
      "Accuracy: 0.7631578947368421\n",
      "Classification Report:\n",
      "               precision    recall  f1-score   support\n",
      "\n",
      "           0       0.74      0.64      0.69        77\n",
      "           1       0.77      0.85      0.81       113\n",
      "\n",
      "    accuracy                           0.76       190\n",
      "   macro avg       0.76      0.74      0.75       190\n",
      "weighted avg       0.76      0.76      0.76       190\n",
      "\n"
     ]
    }
   ],
   "source": [
    "#baseline model\n",
    "\n",
    "from sklearn.model_selection import train_test_split\n",
    "from sklearn.linear_model import LogisticRegression\n",
    "from sklearn.metrics import classification_report, accuracy_score\n",
    "from sklearn.preprocessing import StandardScaler\n",
    "\n",
    "scaler = StandardScaler()\n",
    "\n",
    "\n",
    "# Generate dummy variables for 'category'\n",
    "category_dummies = pd.get_dummies(df1['category'], drop_first=True)\n",
    "\n",
    "# Concatenate dummy columns with the original DataFrame\n",
    "df1 = pd.concat([df1, category_dummies], axis=1)\n",
    "df1 = df1.loc[:,~df1.T.duplicated()]\n",
    "\n",
    "\n",
    "# Split data\n",
    "X = df1[['calories', 'carbohydrate', 'sugar', 'protein', 'servings']+ list(category_dummies.columns)].fillna(0)\n",
    "y = df1['high_traffic'].map({'High': 1, 'Low': 0})  # Binary encoding\n",
    "\n",
    "X_train, X_test, y_train, y_test = train_test_split(X, y, test_size=0.2, random_state=42)\n",
    "\n",
    "X_train_scaled = scaler.fit_transform(X_train)\n",
    "X_test_scaled = scaler.transform(X_test)\n",
    "\n",
    "# Logistic Regression\n",
    "model = LogisticRegression()\n",
    "model.fit(X_train_scaled, y_train)\n",
    "\n",
    "# Predictions\n",
    "y_pred = model.predict(X_test_scaled)\n",
    "\n",
    "# Evaluation\n",
    "print(\"Accuracy:\", accuracy_score(y_test, y_pred))\n",
    "print(\"Classification Report:\\n\", classification_report(y_test, y_pred))\n"
   ]
  },
  {
   "cell_type": "code",
   "execution_count": 19,
   "id": "8a466b96-e6c4-4796-a388-dc858689a78f",
   "metadata": {
    "executionCancelledAt": null,
    "executionTime": null,
    "lastExecutedAt": null,
    "lastExecutedByKernel": null,
    "lastScheduledRunId": null,
    "lastSuccessfullyExecutedCode": null,
    "outputsMetadata": {
     "0": {
      "height": 248,
      "type": "stream"
     }
    }
   },
   "outputs": [
    {
     "name": "stdout",
     "output_type": "stream",
     "text": [
      "Accuracy (Random Forest): 0.7578947368421053\n",
      "Classification Report:\n",
      "               precision    recall  f1-score   support\n",
      "\n",
      "           0       0.72      0.65      0.68        77\n",
      "           1       0.78      0.83      0.80       113\n",
      "\n",
      "    accuracy                           0.76       190\n",
      "   macro avg       0.75      0.74      0.74       190\n",
      "weighted avg       0.76      0.76      0.76       190\n",
      "\n"
     ]
    }
   ],
   "source": [
    "# Comparison Model\n",
    "from sklearn.ensemble import RandomForestClassifier\n",
    "\n",
    "rf_model = RandomForestClassifier(random_state=42,max_depth=20,min_samples_split=40,\n",
    "                                  min_samples_leaf=4,bootstrap=False)\n",
    "rf_model.fit(X_train, y_train)\n",
    "y_pred_rf = rf_model.predict(X_test)\n",
    "\n",
    "print(\"Accuracy (Random Forest):\", accuracy_score(y_test, y_pred_rf))\n",
    "print(\"Classification Report:\\n\", classification_report(y_test, y_pred_rf))"
   ]
  },
  {
   "cell_type": "code",
   "execution_count": 20,
   "id": "05b387cd-284a-4a42-94ad-8762990bb686",
   "metadata": {
    "executionCancelledAt": null,
    "executionTime": 15,
    "lastExecutedAt": 1741161014835,
    "lastExecutedByKernel": "2e13df34-5706-4f4a-90a6-c9d5b223ef13",
    "lastScheduledRunId": null,
    "lastSuccessfullyExecutedCode": "importances = rf_model.feature_importances_\nfeature_importance_df = pd.DataFrame({\n    'Feature': X.columns,\n    'Importance': importances\n}).sort_values(by='Importance', ascending=False)"
   },
   "outputs": [],
   "source": [
    "importances = rf_model.feature_importances_\n",
    "feature_importance_df = pd.DataFrame({\n",
    "    'Feature': X.columns,\n",
    "    'Importance': importances\n",
    "}).sort_values(by='Importance', ascending=False)"
   ]
  },
  {
   "cell_type": "code",
   "execution_count": 21,
   "id": "dadb4d71-ec97-4a8e-9177-b575a6888fc0",
   "metadata": {
    "executionCancelledAt": null,
    "executionTime": null,
    "lastExecutedAt": null,
    "lastExecutedByKernel": null,
    "lastScheduledRunId": null,
    "lastSuccessfullyExecutedCode": null,
    "outputsMetadata": {
     "0": {
      "height": 50,
      "tableState": {
       "customFilter": {
        "const": {
         "type": "boolean",
         "valid": true,
         "value": true
        },
        "id": "e4fc0020-5758-4d4b-bcad-24712176d21c",
        "nodeType": "const"
       },
       "quickFilterText": ""
      },
      "type": "dataFrame"
     }
    }
   },
   "outputs": [
    {
     "data": {
      "application/com.datacamp.data-table.v2+json": {
       "table": {
        "data": {
         "Feature": [
          "protein",
          "Vegetable",
          "Breakfast",
          "Potato",
          "Pork",
          "calories",
          "carbohydrate",
          "sugar",
          "Chicken",
          "Chicken Breast",
          "servings",
          "Lunch/Snacks",
          "Meat",
          "One Dish Meal",
          "Dessert"
         ],
         "Importance": [
          0.2494237454,
          0.1376866045,
          0.0969930635,
          0.0968602909,
          0.0786097761,
          0.0721851954,
          0.0706882872,
          0.0596376247,
          0.0489206871,
          0.0222228209,
          0.0200583543,
          0.0146438623,
          0.012410294,
          0.0104556916,
          0.0092037023
         ],
         "index": [
          3,
          14,
          5,
          13,
          12,
          0,
          1,
          2,
          6,
          7,
          4,
          9,
          10,
          11,
          8
         ]
        },
        "schema": {
         "fields": [
          {
           "name": "index",
           "type": "integer"
          },
          {
           "name": "Feature",
           "type": "string"
          },
          {
           "name": "Importance",
           "type": "number"
          }
         ],
         "pandas_version": "1.4.0",
         "primaryKey": [
          "index"
         ]
        }
       },
       "total_rows": 15,
       "truncation_type": null
      },
      "text/html": [
       "<div>\n",
       "<style scoped>\n",
       "    .dataframe tbody tr th:only-of-type {\n",
       "        vertical-align: middle;\n",
       "    }\n",
       "\n",
       "    .dataframe tbody tr th {\n",
       "        vertical-align: top;\n",
       "    }\n",
       "\n",
       "    .dataframe thead th {\n",
       "        text-align: right;\n",
       "    }\n",
       "</style>\n",
       "<table border=\"1\" class=\"dataframe\">\n",
       "  <thead>\n",
       "    <tr style=\"text-align: right;\">\n",
       "      <th></th>\n",
       "      <th>Feature</th>\n",
       "      <th>Importance</th>\n",
       "    </tr>\n",
       "  </thead>\n",
       "  <tbody>\n",
       "    <tr>\n",
       "      <th>3</th>\n",
       "      <td>protein</td>\n",
       "      <td>0.249424</td>\n",
       "    </tr>\n",
       "    <tr>\n",
       "      <th>14</th>\n",
       "      <td>Vegetable</td>\n",
       "      <td>0.137687</td>\n",
       "    </tr>\n",
       "    <tr>\n",
       "      <th>5</th>\n",
       "      <td>Breakfast</td>\n",
       "      <td>0.096993</td>\n",
       "    </tr>\n",
       "    <tr>\n",
       "      <th>13</th>\n",
       "      <td>Potato</td>\n",
       "      <td>0.096860</td>\n",
       "    </tr>\n",
       "    <tr>\n",
       "      <th>12</th>\n",
       "      <td>Pork</td>\n",
       "      <td>0.078610</td>\n",
       "    </tr>\n",
       "    <tr>\n",
       "      <th>0</th>\n",
       "      <td>calories</td>\n",
       "      <td>0.072185</td>\n",
       "    </tr>\n",
       "    <tr>\n",
       "      <th>1</th>\n",
       "      <td>carbohydrate</td>\n",
       "      <td>0.070688</td>\n",
       "    </tr>\n",
       "    <tr>\n",
       "      <th>2</th>\n",
       "      <td>sugar</td>\n",
       "      <td>0.059638</td>\n",
       "    </tr>\n",
       "    <tr>\n",
       "      <th>6</th>\n",
       "      <td>Chicken</td>\n",
       "      <td>0.048921</td>\n",
       "    </tr>\n",
       "    <tr>\n",
       "      <th>7</th>\n",
       "      <td>Chicken Breast</td>\n",
       "      <td>0.022223</td>\n",
       "    </tr>\n",
       "    <tr>\n",
       "      <th>4</th>\n",
       "      <td>servings</td>\n",
       "      <td>0.020058</td>\n",
       "    </tr>\n",
       "    <tr>\n",
       "      <th>9</th>\n",
       "      <td>Lunch/Snacks</td>\n",
       "      <td>0.014644</td>\n",
       "    </tr>\n",
       "    <tr>\n",
       "      <th>10</th>\n",
       "      <td>Meat</td>\n",
       "      <td>0.012410</td>\n",
       "    </tr>\n",
       "    <tr>\n",
       "      <th>11</th>\n",
       "      <td>One Dish Meal</td>\n",
       "      <td>0.010456</td>\n",
       "    </tr>\n",
       "    <tr>\n",
       "      <th>8</th>\n",
       "      <td>Dessert</td>\n",
       "      <td>0.009204</td>\n",
       "    </tr>\n",
       "  </tbody>\n",
       "</table>\n",
       "</div>"
      ],
      "text/plain": [
       "           Feature  Importance\n",
       "3          protein    0.249424\n",
       "14       Vegetable    0.137687\n",
       "5        Breakfast    0.096993\n",
       "13          Potato    0.096860\n",
       "12            Pork    0.078610\n",
       "0         calories    0.072185\n",
       "1     carbohydrate    0.070688\n",
       "2            sugar    0.059638\n",
       "6          Chicken    0.048921\n",
       "7   Chicken Breast    0.022223\n",
       "4         servings    0.020058\n",
       "9     Lunch/Snacks    0.014644\n",
       "10            Meat    0.012410\n",
       "11   One Dish Meal    0.010456\n",
       "8          Dessert    0.009204"
      ]
     },
     "execution_count": 21,
     "metadata": {
      "application/com.datacamp.data-table.v2+json": {
       "status": "success"
      }
     },
     "output_type": "execute_result"
    }
   ],
   "source": [
    "feature_importance_df"
   ]
  },
  {
   "cell_type": "markdown",
   "id": "9c5042af-7f73-4808-b735-c262418c9395",
   "metadata": {},
   "source": [
    "## ✅ When you have finished...\n",
    "-  Publish your Workspace using the option on the left\n",
    "-  Check the published version of your report:\n",
    "\t-  Can you see everything you want us to grade?\n",
    "    -  Are all the graphics visible?\n",
    "-  Review the grading rubric. Have you included everything that will be graded?\n",
    "-  Head back to the [Certification Dashboard](https://app.datacamp.com/certification) to submit your practical exam report and record your presentation"
   ]
  }
 ],
 "metadata": {
  "colab": {
   "name": "Welcome to DataCamp Workspaces.ipynb",
   "provenance": []
  },
  "kernelspec": {
   "display_name": "Python 3 (ipykernel)",
   "language": "python",
   "name": "python3"
  },
  "language_info": {
   "codemirror_mode": {
    "name": "ipython",
    "version": 3
   },
   "file_extension": ".py",
   "mimetype": "text/x-python",
   "name": "python",
   "nbconvert_exporter": "python",
   "pygments_lexer": "ipython3",
   "version": "3.8.10"
  }
 },
 "nbformat": 4,
 "nbformat_minor": 5
}
